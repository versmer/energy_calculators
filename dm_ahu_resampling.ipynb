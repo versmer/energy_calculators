{
 "cells": [
  {
   "cell_type": "code",
   "execution_count": 26,
   "metadata": {},
   "outputs": [],
   "source": [
    "#reading csv using pandas and making the csv look better\n",
    "import pandas as pd\n",
    "import datetime\n",
    "\n",
    "#starting with supply data\n",
    "df_supply=pd.read_csv(\"Lafayette_11sf_.csv\", skiprows=1, low_memory=False, index_col=\"Date Time, GMT-05:00\")\n",
    "\n",
    "#df_supply=df_supply.drop(\"#\", axis=1)\n",
    "df_supply=df_supply.drop(df_supply.columns[1],axis=1)\n",
    "df_supply.index = pd.to_datetime(df_supply.index)\n",
    "\n",
    "df_supply.resample(\"H\").mean().to_csv(\"resampled_supply.csv\")\n"
   ]
  },
  {
   "cell_type": "code",
   "execution_count": null,
   "metadata": {},
   "outputs": [],
   "source": [
    "#return resampling\n",
    "df_return=pd.read_csv(\"Lafayette_11rf_.csv\", skiprows=1, low_memory=False, index_col=\"Date Time, GMT-05:00\")\n",
    "df_return=df_return.drop(\"#\", axis=1)\n",
    "df_return.index = pd.to_datetime(df_return.index)\n",
    "df_return.resample(\"H\").mean().to_csv(\"resampled_return.csv\")"
   ]
  }
 ],
 "metadata": {
  "kernelspec": {
   "display_name": "Python 3.10.5 64-bit",
   "language": "python",
   "name": "python3"
  },
  "language_info": {
   "codemirror_mode": {
    "name": "ipython",
    "version": 3
   },
   "file_extension": ".py",
   "mimetype": "text/x-python",
   "name": "python",
   "nbconvert_exporter": "python",
   "pygments_lexer": "ipython3",
   "version": "3.10.5"
  },
  "orig_nbformat": 4,
  "vscode": {
   "interpreter": {
    "hash": "aee8b7b246df8f9039afb4144a1f6fd8d2ca17a180786b69acc140d282b71a49"
   }
  }
 },
 "nbformat": 4,
 "nbformat_minor": 2
}
