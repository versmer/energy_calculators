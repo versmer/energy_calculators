{
 "cells": [
  {
   "cell_type": "code",
   "execution_count": 41,
   "metadata": {},
   "outputs": [],
   "source": [
    "#resample supply csv\n",
    "import pandas as pd\n",
    "import datetime\n",
    "\n",
    "df_supply=pd.read_csv(\"Lafayette_11sf_.csv\", skiprows=1, low_memory=False, index_col=\"Date Time, GMT-05:00\")\n",
    "df_supply=df_supply.drop(df_supply.columns[:1],axis=1)\n",
    "df_supply.index = pd.to_datetime(df_supply.index)\n",
    "df_supply.resample(\"H\").mean().to_csv(\"resampled_supply.csv\")\n"
   ]
  },
  {
   "cell_type": "code",
   "execution_count": 36,
   "metadata": {},
   "outputs": [],
   "source": [
    "#return resampling\n",
    "df_return=pd.read_csv(\"Lafayette_11rf_.csv\", skiprows=1, low_memory=False, index_col=\"Date Time, GMT-05:00\")\n",
    "df_return=df_return.drop(df_return.columns[:1],axis=1)\n",
    "df_return.index = pd.to_datetime(df_return.index)\n",
    "df_return.resample(\"H\").mean().to_csv(\"resampled_return.csv\")"
   ]
  },
  {
   "cell_type": "code",
   "execution_count": 19,
   "metadata": {},
   "outputs": [
    {
     "name": "stdout",
     "output_type": "stream",
     "text": [
      "Supply Fan True Power Readind (kW):  11.4\n"
     ]
    }
   ],
   "source": [
    "#input for supply\n",
    "s=float(input(\"Enter Supply Fan True Power Readind (kW): \"))\n",
    "if s==0:\n",
    "    x,y,z=float(input(\"Enter Supply Fan HP: \")), float(input(\"Enter Supply Fan Load Factor: \")), float(input(\"Enter Supply Fan Motor Efficiency: \"))\n",
    "    print(\"Supply Fan HP: \", x) \n",
    "    print(\"Supply Fan Load Factor: \", y)\n",
    "    print(\"Supply Fan Motor Efficiency: \", z)\n",
    "else:\n",
    "    print(\"Supply Fan True Power Readind (kW): \", s)"
   ]
  },
  {
   "cell_type": "code",
   "execution_count": 16,
   "metadata": {},
   "outputs": [
    {
     "name": "stdout",
     "output_type": "stream",
     "text": [
      "Return Fan True Power Readind (kW):  0.0\n"
     ]
    }
   ],
   "source": [
    "#input for return\n",
    "r=float(input(\"Enter Return Fan True Power Readind (kW): \"))\n",
    "if s==0:\n",
    "    u,v,w=float(input(\"Enter Return Fan HP: \")), float(input(\"Enter Return Fan Load Factor: \")), float(input(\"Enter Return Fan Motor Efficiency: \"))\n",
    "    print(\"Return Fan HP: \", u) \n",
    "    print(\"Return Fan Load Factor: \", v)\n",
    "    print(\"Return Fan Motor Efficiency: \", w)\n",
    "else:\n",
    "    print(\"Return Fan True Power Readind (kW): \", r)"
   ]
  },
  {
   "cell_type": "code",
   "execution_count": 34,
   "metadata": {},
   "outputs": [
    {
     "name": "stdout",
     "output_type": "stream",
     "text": [
      "30\n"
     ]
    }
   ],
   "source": [
    "#heating season input \n",
    "from datetime import datetime\n",
    "from datetime import date\n",
    " \n",
    "my_string1 = str(input('Enter date(yyyy-mm-dd hh:mm): '))\n",
    "start_date1 = datetime.strptime(my_string1, \"%Y-%m-%d %H:%M\")\n",
    "my_string2=str(input('Enter date(yyyy-mm-dd hh:mm): '))\n",
    "end_date1=datetime.strptime(my_string2, \"%Y-%m-%d %H:%M\")\n",
    "my_string3 = str(input('Enter date(yyyy-mm-dd hh:mm): '))\n",
    "start_date2 = datetime.strptime(my_string3, \"%Y-%m-%d %H:%M\")\n",
    "my_string4=str(input('Enter date(yyyy-mm-dd hh:mm): '))\n",
    "end_date2=datetime.strptime(my_string4, \"%Y-%m-%d %H:%M\")\n",
    "\n",
    "#weeks in heating season\n",
    "days=abs(start_date1-end_date1).days\n",
    "days2=abs(start_date2-end_date2).days\n",
    "weeks_heat_season=((days//7)+(days2//7))\n",
    "print(weeks_heat_season)\n"
   ]
  }
 ],
 "metadata": {
  "kernelspec": {
   "display_name": "Python 3.10.5 64-bit",
   "language": "python",
   "name": "python3"
  },
  "language_info": {
   "codemirror_mode": {
    "name": "ipython",
    "version": 3
   },
   "file_extension": ".py",
   "mimetype": "text/x-python",
   "name": "python",
   "nbconvert_exporter": "python",
   "pygments_lexer": "ipython3",
   "version": "3.10.5"
  },
  "orig_nbformat": 4,
  "vscode": {
   "interpreter": {
    "hash": "aee8b7b246df8f9039afb4144a1f6fd8d2ca17a180786b69acc140d282b71a49"
   }
  }
 },
 "nbformat": 4,
 "nbformat_minor": 2
}
